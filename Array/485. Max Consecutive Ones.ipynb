{
 "cells": [
  {
   "cell_type": "markdown",
   "metadata": {},
   "source": [
    "Given a binary array, find the maximum number of consecutive 1s in this array."
   ]
  },
  {
   "cell_type": "markdown",
   "metadata": {},
   "source": [
    "### Example 1:\n",
    "__Input:__ [1,1,0,1,1,1]\n",
    "\n",
    "__Output:__ 3\n",
    "\n",
    "__Explanation:__ The first two digits or the last three digits are consecutive 1s.<br/>\n",
    "    The maximum number of consecutive 1s is 3."
   ]
  },
  {
   "cell_type": "markdown",
   "metadata": {},
   "source": [
    "__Note:__\n",
    "\n",
    "The input array will only contain 0 and 1.<br/>\n",
    "The length of input array is a positive integer and will not exceed 10,000"
   ]
  },
  {
   "cell_type": "code",
   "execution_count": 4,
   "metadata": {
    "collapsed": true
   },
   "outputs": [],
   "source": [
    "class Solution(object):\n",
    "    def findMaxConsecutiveOnes(self, nums):\n",
    "        \"\"\"\n",
    "        :type nums: List[int]\n",
    "        :rtype: int\n",
    "        \"\"\"\n",
    "        maxNum, temMax = 0, 0\n",
    "        for i in nums:\n",
    "            if i == 1:\n",
    "                temMax += 1\n",
    "            else:\n",
    "                temMax = 0\n",
    "            \n",
    "            if temMax > maxNum:\n",
    "                maxNum = temMax\n",
    "        return maxNum"
   ]
  },
  {
   "cell_type": "markdown",
   "metadata": {},
   "source": [
    "### New solutions:"
   ]
  },
  {
   "cell_type": "markdown",
   "metadata": {},
   "source": [
    "__1. Improve my solution__\n",
    "\n",
    "- use max() instead of if temMax > maxNum.\n",
    "- change the max() function into position under if i == 1."
   ]
  },
  {
   "cell_type": "code",
   "execution_count": 3,
   "metadata": {
    "collapsed": true
   },
   "outputs": [],
   "source": [
    "class Solution(object):\n",
    "    def findMaxConsecutiveOnes(self, nums):\n",
    "        \"\"\"\n",
    "        :type nums: List[int]\n",
    "        :rtype: int\n",
    "        \"\"\"\n",
    "        maxNum, temMax = 0, 0\n",
    "        for i in nums:\n",
    "            if i == 1:\n",
    "                temMax += 1\n",
    "                maxNum = max(temMax, maxNum)\n",
    "            else:\n",
    "                temMax = 0\n",
    "        return maxNum"
   ]
  },
  {
   "cell_type": "markdown",
   "metadata": {},
   "source": [
    "__Thinking:__\n",
    "\n",
    "useing max() function will waste more time than original code?"
   ]
  },
  {
   "cell_type": "markdown",
   "metadata": {},
   "source": [
    "__2. A New Solution__\n",
    "\n",
    "* make each item in list into string\n",
    "* combine all of string number into only one number\n",
    "* split string through '0' and get the list of substring\n",
    "* find the longest substring and return the length"
   ]
  },
  {
   "cell_type": "code",
   "execution_count": 7,
   "metadata": {
    "collapsed": true
   },
   "outputs": [],
   "source": [
    "class Solution(object):\n",
    "    def findMaxConsecutiveOnes(self, nums):\n",
    "        \"\"\"\n",
    "        :type nums: List[int]\n",
    "        :rtype: int\n",
    "        \"\"\"\n",
    "        num_str = ''.join(map(str,nums))\n",
    "        num_list = num_str.split('0')\n",
    "        return len(max(num_list))"
   ]
  },
  {
   "cell_type": "markdown",
   "metadata": {},
   "source": [
    "__Thinking:__\n",
    "\n",
    "Not as much fast as I think it should be.<br/>\n",
    "_Problem:_ might be function max() "
   ]
  }
 ],
 "metadata": {
  "kernelspec": {
   "display_name": "Python 3",
   "language": "python",
   "name": "python3"
  },
  "language_info": {
   "codemirror_mode": {
    "name": "ipython",
    "version": 3
   },
   "file_extension": ".py",
   "mimetype": "text/x-python",
   "name": "python",
   "nbconvert_exporter": "python",
   "pygments_lexer": "ipython3",
   "version": "3.6.2"
  }
 },
 "nbformat": 4,
 "nbformat_minor": 2
}
