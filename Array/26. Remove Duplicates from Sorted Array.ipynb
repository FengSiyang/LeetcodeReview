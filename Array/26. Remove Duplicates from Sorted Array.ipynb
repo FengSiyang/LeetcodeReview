{
 "cells": [
  {
   "cell_type": "markdown",
   "metadata": {},
   "source": [
    "Given a sorted array, remove the duplicates _in-place_ such that each element appear only once and return the new length. \n",
    "\n",
    "Do not allocate extra space for another array, you must do this by __modifying the input array in-place__ with O(1) extra memory.\n",
    "\n",
    "#### Example:\n",
    "Given nums = [1,1,2],\n",
    "\n",
    "Your function should return length = 2, with the first two elements of nums being 1 and 2 respectively.<br/>\n",
    "It doesn't matter what you leave beyond the new length."
   ]
  },
  {
   "cell_type": "markdown",
   "metadata": {},
   "source": [
    "### In-place algorithm:\n",
    "Transforms input using no auxiliary data structure.<br/>\n",
    "However a small amount of extra storage space is allowed for auxiliary variables. \n",
    "\n",
    " In-place algorithm updates input sequence only through replacement or swapping of elements. An algorithm which is __not in-place__ is sometimes called __not-in-place or out-of-place__."
   ]
  },
  {
   "cell_type": "code",
   "execution_count": null,
   "metadata": {
    "collapsed": true
   },
   "outputs": [],
   "source": [
    "# My code:\n",
    "class Solution(object):\n",
    "    def removeDuplicates(self, nums):\n",
    "        \"\"\"\n",
    "        :type nums: List[int]\n",
    "        :rtype: int\n",
    "        \"\"\"\n",
    "        if not nums: # consider the empty list\n",
    "            return 0\n",
    "        \n",
    "        index = 0\n",
    "        for i in range(1, len(nums)):\n",
    "            if nums[i] != nums[index]:\n",
    "                index += 1\n",
    "                nums[index] = nums[i]\n",
    "        return index + 1"
   ]
  }
 ],
 "metadata": {
  "kernelspec": {
   "display_name": "Python 3",
   "language": "python",
   "name": "python3"
  },
  "language_info": {
   "codemirror_mode": {
    "name": "ipython",
    "version": 3
   },
   "file_extension": ".py",
   "mimetype": "text/x-python",
   "name": "python",
   "nbconvert_exporter": "python",
   "pygments_lexer": "ipython3",
   "version": "3.6.2"
  }
 },
 "nbformat": 4,
 "nbformat_minor": 2
}
