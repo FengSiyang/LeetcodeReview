{
 "cells": [
  {
   "cell_type": "markdown",
   "metadata": {},
   "source": [
    "Given an array of integers, 1 ≤ a[i] ≤ n (n = size of array), some elements appear twice and others appear once. \n",
    "\n",
    "Find all the elements that appear twice in this array. \n",
    "\n",
    "_Could you do it without extra space and in O(n) runtime?_"
   ]
  },
  {
   "cell_type": "markdown",
   "metadata": {},
   "source": [
    "### Example:\n",
    "__Input:__\n",
    "\n",
    "[4,3,2,7,8,2,3,1]\n",
    "\n",
    "__Output:__\n",
    "\n",
    "[2,3]"
   ]
  },
  {
   "cell_type": "code",
   "execution_count": 5,
   "metadata": {},
   "outputs": [],
   "source": [
    "class Solution(object):\n",
    "    def findDuplicates(self, nums):\n",
    "        \"\"\"\n",
    "        :type nums: List[int]\n",
    "        :rtype: List[int]\n",
    "        \"\"\"\n",
    "        return list(set(list(filter(lambda x: nums.count(x) == 2, nums))))"
   ]
  },
  {
   "cell_type": "markdown",
   "metadata": {},
   "source": [
    "### Cannot submit\n",
    "Status: __Time Limit Exceeded\n",
    "22 / 28 test cases passed.\n",
    "\n",
    "Why?????"
   ]
  },
  {
   "cell_type": "markdown",
   "metadata": {},
   "source": [
    "## Think:\n",
    "1 ≤ a[i] ≤ n (n = size of array) is important.\n",
    "\n",
    "hash map is considered in this problem."
   ]
  },
  {
   "cell_type": "code",
   "execution_count": null,
   "metadata": {
    "collapsed": true
   },
   "outputs": [],
   "source": [
    "# New:\n",
    "class Solution(object):\n",
    "    def findDuplicates(self, nums):\n",
    "        \"\"\"\n",
    "        :type nums: List[int]\n",
    "        :rtype: List[int]\n",
    "        \"\"\"\n",
    "        result = []\n",
    "        for x in nums:\n",
    "            if nums[abs(x)-1] < 0:\n",
    "                result.append(abs(x))\n",
    "            else:\n",
    "                nums[abs(x)-1] = -1*nums[abs(x)-1]\n",
    "        return result"
   ]
  },
  {
   "cell_type": "markdown",
   "metadata": {},
   "source": [
    "### Example\n",
    "list: [4, 3, 2, 7, 8, 2, 3, 1]\n",
    "\n",
    "__No Sorting!__\n",
    "\n",
    "coonection between the value and the index."
   ]
  },
  {
   "cell_type": "markdown",
   "metadata": {},
   "source": [
    "x:  v  v  v  v  v  v  v  v  <br/>\n",
    "  [ 4, 3, 2, 7, 8, 2, 3, 1 ] <br/>\n",
    "   l  l  l  l  l  l  l  l  <br/>\n",
    "   -4 -3 -2 -7     -3 -1  "
   ]
  },
  {
   "cell_type": "code",
   "execution_count": null,
   "metadata": {
    "collapsed": true
   },
   "outputs": [],
   "source": []
  }
 ],
 "metadata": {
  "kernelspec": {
   "display_name": "Python 3",
   "language": "python",
   "name": "python3"
  },
  "language_info": {
   "codemirror_mode": {
    "name": "ipython",
    "version": 3
   },
   "file_extension": ".py",
   "mimetype": "text/x-python",
   "name": "python",
   "nbconvert_exporter": "python",
   "pygments_lexer": "ipython3",
   "version": "3.6.2"
  }
 },
 "nbformat": 4,
 "nbformat_minor": 2
}
